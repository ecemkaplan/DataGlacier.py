{
 "cells": [
  {
   "cell_type": "code",
   "execution_count": 7,
   "id": "4823096e-77dc-4de4-8685-2572deaf4872",
   "metadata": {
    "tags": []
   },
   "outputs": [],
   "source": [
    "import numpy as np\n",
    "import pandas as pd\n",
    "import statsmodels.api as sm\n",
    "import statsmodels.formula.api as smf\n",
    "import seaborn as sns\n",
    "from sklearn.preprocessing import scale\n",
    "from sklearn.model_selection import train_test_split, GridSearchCV, cross_val_score\n",
    "from sklearn.metrics import confusion_matrix, accuracy_score, roc_auc_score, roc_curve, log_loss, classification_report\n",
    "import matplotlib.pyplot as plt\n",
    "from sklearn.neighbors import KNeighborsClassifier\n",
    "from sklearn.discriminant_analysis import LinearDiscriminantAnalysis\n",
    "from sklearn.linear_model import LogisticRegression\n",
    "from sklearn.svm import SVC\n",
    "from sklearn.naive_bayes import GaussianNB\n",
    "from sklearn import tree\n",
    "from sklearn.ensemble import RandomForestClassifier\n",
    "from sklearn.ensemble import GradientBoostingClassifier\n",
    "from warnings import filterwarnings"
   ]
  },
  {
   "cell_type": "code",
   "execution_count": 8,
   "id": "4c727ffb-d8e4-4994-a5ce-5ebe382c5e64",
   "metadata": {},
   "outputs": [],
   "source": [
    "pumpkin = pd.read_excel(\"Pumpkin_Seeds_Dataset.xlsx\",sheet_name=\"Pumpkin_Seeds_Dataset\")"
   ]
  },
  {
   "cell_type": "code",
   "execution_count": 9,
   "id": "0323c721-601f-42ba-a414-47d14bb33bbc",
   "metadata": {
    "tags": []
   },
   "outputs": [
    {
     "data": {
      "text/html": [
       "<div>\n",
       "<style scoped>\n",
       "    .dataframe tbody tr th:only-of-type {\n",
       "        vertical-align: middle;\n",
       "    }\n",
       "\n",
       "    .dataframe tbody tr th {\n",
       "        vertical-align: top;\n",
       "    }\n",
       "\n",
       "    .dataframe thead th {\n",
       "        text-align: right;\n",
       "    }\n",
       "</style>\n",
       "<table border=\"1\" class=\"dataframe\">\n",
       "  <thead>\n",
       "    <tr style=\"text-align: right;\">\n",
       "      <th></th>\n",
       "      <th>Area</th>\n",
       "      <th>Perimeter</th>\n",
       "      <th>Major_Axis_Length</th>\n",
       "      <th>Minor_Axis_Length</th>\n",
       "      <th>Convex_Area</th>\n",
       "      <th>Equiv_Diameter</th>\n",
       "      <th>Eccentricity</th>\n",
       "      <th>Solidity</th>\n",
       "      <th>Extent</th>\n",
       "      <th>Roundness</th>\n",
       "      <th>Aspect_Ration</th>\n",
       "      <th>Compactness</th>\n",
       "      <th>Class</th>\n",
       "    </tr>\n",
       "  </thead>\n",
       "  <tbody>\n",
       "    <tr>\n",
       "      <th>2495</th>\n",
       "      <td>79637</td>\n",
       "      <td>1224.710</td>\n",
       "      <td>533.1513</td>\n",
       "      <td>190.4367</td>\n",
       "      <td>80381</td>\n",
       "      <td>318.4289</td>\n",
       "      <td>0.9340</td>\n",
       "      <td>0.9907</td>\n",
       "      <td>0.4888</td>\n",
       "      <td>0.6672</td>\n",
       "      <td>2.7996</td>\n",
       "      <td>0.5973</td>\n",
       "      <td>Ürgüp Sivrisi</td>\n",
       "    </tr>\n",
       "    <tr>\n",
       "      <th>2496</th>\n",
       "      <td>69647</td>\n",
       "      <td>1084.318</td>\n",
       "      <td>462.9416</td>\n",
       "      <td>191.8210</td>\n",
       "      <td>70216</td>\n",
       "      <td>297.7874</td>\n",
       "      <td>0.9101</td>\n",
       "      <td>0.9919</td>\n",
       "      <td>0.6002</td>\n",
       "      <td>0.7444</td>\n",
       "      <td>2.4134</td>\n",
       "      <td>0.6433</td>\n",
       "      <td>Ürgüp Sivrisi</td>\n",
       "    </tr>\n",
       "    <tr>\n",
       "      <th>2497</th>\n",
       "      <td>87994</td>\n",
       "      <td>1210.314</td>\n",
       "      <td>507.2200</td>\n",
       "      <td>222.1872</td>\n",
       "      <td>88702</td>\n",
       "      <td>334.7199</td>\n",
       "      <td>0.8990</td>\n",
       "      <td>0.9920</td>\n",
       "      <td>0.7643</td>\n",
       "      <td>0.7549</td>\n",
       "      <td>2.2828</td>\n",
       "      <td>0.6599</td>\n",
       "      <td>Ürgüp Sivrisi</td>\n",
       "    </tr>\n",
       "    <tr>\n",
       "      <th>2498</th>\n",
       "      <td>80011</td>\n",
       "      <td>1182.947</td>\n",
       "      <td>501.9065</td>\n",
       "      <td>204.7531</td>\n",
       "      <td>80902</td>\n",
       "      <td>319.1758</td>\n",
       "      <td>0.9130</td>\n",
       "      <td>0.9890</td>\n",
       "      <td>0.7374</td>\n",
       "      <td>0.7185</td>\n",
       "      <td>2.4513</td>\n",
       "      <td>0.6359</td>\n",
       "      <td>Ürgüp Sivrisi</td>\n",
       "    </tr>\n",
       "    <tr>\n",
       "      <th>2499</th>\n",
       "      <td>84934</td>\n",
       "      <td>1159.933</td>\n",
       "      <td>462.8951</td>\n",
       "      <td>234.5597</td>\n",
       "      <td>85781</td>\n",
       "      <td>328.8485</td>\n",
       "      <td>0.8621</td>\n",
       "      <td>0.9901</td>\n",
       "      <td>0.7360</td>\n",
       "      <td>0.7933</td>\n",
       "      <td>1.9735</td>\n",
       "      <td>0.7104</td>\n",
       "      <td>Ürgüp Sivrisi</td>\n",
       "    </tr>\n",
       "  </tbody>\n",
       "</table>\n",
       "</div>"
      ],
      "text/plain": [
       "       Area  Perimeter  Major_Axis_Length  Minor_Axis_Length  Convex_Area  \\\n",
       "2495  79637   1224.710           533.1513           190.4367        80381   \n",
       "2496  69647   1084.318           462.9416           191.8210        70216   \n",
       "2497  87994   1210.314           507.2200           222.1872        88702   \n",
       "2498  80011   1182.947           501.9065           204.7531        80902   \n",
       "2499  84934   1159.933           462.8951           234.5597        85781   \n",
       "\n",
       "      Equiv_Diameter  Eccentricity  Solidity  Extent  Roundness  \\\n",
       "2495        318.4289        0.9340    0.9907  0.4888     0.6672   \n",
       "2496        297.7874        0.9101    0.9919  0.6002     0.7444   \n",
       "2497        334.7199        0.8990    0.9920  0.7643     0.7549   \n",
       "2498        319.1758        0.9130    0.9890  0.7374     0.7185   \n",
       "2499        328.8485        0.8621    0.9901  0.7360     0.7933   \n",
       "\n",
       "      Aspect_Ration  Compactness          Class  \n",
       "2495         2.7996       0.5973  Ürgüp Sivrisi  \n",
       "2496         2.4134       0.6433  Ürgüp Sivrisi  \n",
       "2497         2.2828       0.6599  Ürgüp Sivrisi  \n",
       "2498         2.4513       0.6359  Ürgüp Sivrisi  \n",
       "2499         1.9735       0.7104  Ürgüp Sivrisi  "
      ]
     },
     "execution_count": 9,
     "metadata": {},
     "output_type": "execute_result"
    }
   ],
   "source": [
    "df = pumpkin.copy()\n",
    "df = pumpkin.dropna()\n",
    "df.tail()"
   ]
  },
  {
   "cell_type": "code",
   "execution_count": 10,
   "id": "d9b4e5f1-876f-4acf-b175-9f48583de123",
   "metadata": {
    "tags": []
   },
   "outputs": [
    {
     "data": {
      "text/html": [
       "<div>\n",
       "<style scoped>\n",
       "    .dataframe tbody tr th:only-of-type {\n",
       "        vertical-align: middle;\n",
       "    }\n",
       "\n",
       "    .dataframe tbody tr th {\n",
       "        vertical-align: top;\n",
       "    }\n",
       "\n",
       "    .dataframe thead th {\n",
       "        text-align: right;\n",
       "    }\n",
       "</style>\n",
       "<table border=\"1\" class=\"dataframe\">\n",
       "  <thead>\n",
       "    <tr style=\"text-align: right;\">\n",
       "      <th></th>\n",
       "      <th>count</th>\n",
       "      <th>mean</th>\n",
       "      <th>std</th>\n",
       "      <th>min</th>\n",
       "      <th>25%</th>\n",
       "      <th>50%</th>\n",
       "      <th>75%</th>\n",
       "      <th>max</th>\n",
       "    </tr>\n",
       "  </thead>\n",
       "  <tbody>\n",
       "    <tr>\n",
       "      <th>Area</th>\n",
       "      <td>2500.0</td>\n",
       "      <td>80658.220800</td>\n",
       "      <td>13664.510228</td>\n",
       "      <td>47939.0000</td>\n",
       "      <td>70765.000000</td>\n",
       "      <td>79076.00000</td>\n",
       "      <td>89757.500000</td>\n",
       "      <td>136574.0000</td>\n",
       "    </tr>\n",
       "    <tr>\n",
       "      <th>Perimeter</th>\n",
       "      <td>2500.0</td>\n",
       "      <td>1130.279015</td>\n",
       "      <td>109.256418</td>\n",
       "      <td>868.4850</td>\n",
       "      <td>1048.829750</td>\n",
       "      <td>1123.67200</td>\n",
       "      <td>1203.340500</td>\n",
       "      <td>1559.4500</td>\n",
       "    </tr>\n",
       "    <tr>\n",
       "      <th>Major_Axis_Length</th>\n",
       "      <td>2500.0</td>\n",
       "      <td>456.601840</td>\n",
       "      <td>56.235704</td>\n",
       "      <td>320.8446</td>\n",
       "      <td>414.957850</td>\n",
       "      <td>449.49660</td>\n",
       "      <td>492.737650</td>\n",
       "      <td>661.9113</td>\n",
       "    </tr>\n",
       "    <tr>\n",
       "      <th>Minor_Axis_Length</th>\n",
       "      <td>2500.0</td>\n",
       "      <td>225.794921</td>\n",
       "      <td>23.297245</td>\n",
       "      <td>152.1718</td>\n",
       "      <td>211.245925</td>\n",
       "      <td>224.70310</td>\n",
       "      <td>240.672875</td>\n",
       "      <td>305.8180</td>\n",
       "    </tr>\n",
       "    <tr>\n",
       "      <th>Convex_Area</th>\n",
       "      <td>2500.0</td>\n",
       "      <td>81508.084400</td>\n",
       "      <td>13764.092788</td>\n",
       "      <td>48366.0000</td>\n",
       "      <td>71512.000000</td>\n",
       "      <td>79872.00000</td>\n",
       "      <td>90797.750000</td>\n",
       "      <td>138384.0000</td>\n",
       "    </tr>\n",
       "    <tr>\n",
       "      <th>Equiv_Diameter</th>\n",
       "      <td>2500.0</td>\n",
       "      <td>319.334230</td>\n",
       "      <td>26.891920</td>\n",
       "      <td>247.0584</td>\n",
       "      <td>300.167975</td>\n",
       "      <td>317.30535</td>\n",
       "      <td>338.057375</td>\n",
       "      <td>417.0029</td>\n",
       "    </tr>\n",
       "    <tr>\n",
       "      <th>Eccentricity</th>\n",
       "      <td>2500.0</td>\n",
       "      <td>0.860879</td>\n",
       "      <td>0.045167</td>\n",
       "      <td>0.4921</td>\n",
       "      <td>0.831700</td>\n",
       "      <td>0.86370</td>\n",
       "      <td>0.897025</td>\n",
       "      <td>0.9481</td>\n",
       "    </tr>\n",
       "    <tr>\n",
       "      <th>Solidity</th>\n",
       "      <td>2500.0</td>\n",
       "      <td>0.989492</td>\n",
       "      <td>0.003494</td>\n",
       "      <td>0.9186</td>\n",
       "      <td>0.988300</td>\n",
       "      <td>0.99030</td>\n",
       "      <td>0.991500</td>\n",
       "      <td>0.9944</td>\n",
       "    </tr>\n",
       "    <tr>\n",
       "      <th>Extent</th>\n",
       "      <td>2500.0</td>\n",
       "      <td>0.693205</td>\n",
       "      <td>0.060914</td>\n",
       "      <td>0.4680</td>\n",
       "      <td>0.658900</td>\n",
       "      <td>0.71305</td>\n",
       "      <td>0.740225</td>\n",
       "      <td>0.8296</td>\n",
       "    </tr>\n",
       "    <tr>\n",
       "      <th>Roundness</th>\n",
       "      <td>2500.0</td>\n",
       "      <td>0.791533</td>\n",
       "      <td>0.055924</td>\n",
       "      <td>0.5546</td>\n",
       "      <td>0.751900</td>\n",
       "      <td>0.79775</td>\n",
       "      <td>0.834325</td>\n",
       "      <td>0.9396</td>\n",
       "    </tr>\n",
       "    <tr>\n",
       "      <th>Aspect_Ration</th>\n",
       "      <td>2500.0</td>\n",
       "      <td>2.041702</td>\n",
       "      <td>0.315997</td>\n",
       "      <td>1.1487</td>\n",
       "      <td>1.801050</td>\n",
       "      <td>1.98420</td>\n",
       "      <td>2.262075</td>\n",
       "      <td>3.1444</td>\n",
       "    </tr>\n",
       "    <tr>\n",
       "      <th>Compactness</th>\n",
       "      <td>2500.0</td>\n",
       "      <td>0.704121</td>\n",
       "      <td>0.053067</td>\n",
       "      <td>0.5608</td>\n",
       "      <td>0.663475</td>\n",
       "      <td>0.70770</td>\n",
       "      <td>0.743500</td>\n",
       "      <td>0.9049</td>\n",
       "    </tr>\n",
       "  </tbody>\n",
       "</table>\n",
       "</div>"
      ],
      "text/plain": [
       "                    count          mean           std         min  \\\n",
       "Area               2500.0  80658.220800  13664.510228  47939.0000   \n",
       "Perimeter          2500.0   1130.279015    109.256418    868.4850   \n",
       "Major_Axis_Length  2500.0    456.601840     56.235704    320.8446   \n",
       "Minor_Axis_Length  2500.0    225.794921     23.297245    152.1718   \n",
       "Convex_Area        2500.0  81508.084400  13764.092788  48366.0000   \n",
       "Equiv_Diameter     2500.0    319.334230     26.891920    247.0584   \n",
       "Eccentricity       2500.0      0.860879      0.045167      0.4921   \n",
       "Solidity           2500.0      0.989492      0.003494      0.9186   \n",
       "Extent             2500.0      0.693205      0.060914      0.4680   \n",
       "Roundness          2500.0      0.791533      0.055924      0.5546   \n",
       "Aspect_Ration      2500.0      2.041702      0.315997      1.1487   \n",
       "Compactness        2500.0      0.704121      0.053067      0.5608   \n",
       "\n",
       "                            25%          50%           75%          max  \n",
       "Area               70765.000000  79076.00000  89757.500000  136574.0000  \n",
       "Perimeter           1048.829750   1123.67200   1203.340500    1559.4500  \n",
       "Major_Axis_Length    414.957850    449.49660    492.737650     661.9113  \n",
       "Minor_Axis_Length    211.245925    224.70310    240.672875     305.8180  \n",
       "Convex_Area        71512.000000  79872.00000  90797.750000  138384.0000  \n",
       "Equiv_Diameter       300.167975    317.30535    338.057375     417.0029  \n",
       "Eccentricity           0.831700      0.86370      0.897025       0.9481  \n",
       "Solidity               0.988300      0.99030      0.991500       0.9944  \n",
       "Extent                 0.658900      0.71305      0.740225       0.8296  \n",
       "Roundness              0.751900      0.79775      0.834325       0.9396  \n",
       "Aspect_Ration          1.801050      1.98420      2.262075       3.1444  \n",
       "Compactness            0.663475      0.70770      0.743500       0.9049  "
      ]
     },
     "execution_count": 10,
     "metadata": {},
     "output_type": "execute_result"
    }
   ],
   "source": [
    "df.describe().T"
   ]
  },
  {
   "cell_type": "code",
   "execution_count": 11,
   "id": "aa681fa6-b32a-4d6a-b401-f6d01d7c7a6a",
   "metadata": {
    "tags": []
   },
   "outputs": [
    {
     "data": {
      "image/png": "[encoded data removed]",
      "text/plain": [
       "<Figure size 864x864 with 12 Axes>"
      ]
     },
     "metadata": {
      "needs_background": "light"
     },
     "output_type": "display_data"
    }
   ],
   "source": [
    "df.hist(figsize=(12,12))\n",
    "plt.show()"
   ]
  },
  {
   "cell_type": "code",
   "execution_count": 12,
   "id": "d7b10063-e985-46a8-a2b8-e5342ea25a70",
   "metadata": {
    "tags": []
   },
   "outputs": [
    {
     "data": {
      "text/html": [
       "<div>\n",
       "<style scoped>\n",
       "    .dataframe tbody tr th:only-of-type {\n",
       "        vertical-align: middle;\n",
       "    }\n",
       "\n",
       "    .dataframe tbody tr th {\n",
       "        vertical-align: top;\n",
       "    }\n",
       "\n",
       "    .dataframe thead th {\n",
       "        text-align: right;\n",
       "    }\n",
       "</style>\n",
       "<table border=\"1\" class=\"dataframe\">\n",
       "  <thead>\n",
       "    <tr style=\"text-align: right;\">\n",
       "      <th></th>\n",
       "      <th>Area</th>\n",
       "      <th>Perimeter</th>\n",
       "      <th>Major_Axis_Length</th>\n",
       "      <th>Minor_Axis_Length</th>\n",
       "      <th>Convex_Area</th>\n",
       "      <th>Equiv_Diameter</th>\n",
       "      <th>Eccentricity</th>\n",
       "      <th>Solidity</th>\n",
       "      <th>Extent</th>\n",
       "      <th>Roundness</th>\n",
       "      <th>Aspect_Ration</th>\n",
       "      <th>Compactness</th>\n",
       "      <th>Class</th>\n",
       "      <th>Class_encode</th>\n",
       "    </tr>\n",
       "  </thead>\n",
       "  <tbody>\n",
       "    <tr>\n",
       "      <th>0</th>\n",
       "      <td>56276</td>\n",
       "      <td>888.242</td>\n",
       "      <td>326.1485</td>\n",
       "      <td>220.2388</td>\n",
       "      <td>56831</td>\n",
       "      <td>267.6805</td>\n",
       "      <td>0.7376</td>\n",
       "      <td>0.9902</td>\n",
       "      <td>0.7453</td>\n",
       "      <td>0.8963</td>\n",
       "      <td>1.4809</td>\n",
       "      <td>0.8207</td>\n",
       "      <td>Çerçevelik</td>\n",
       "      <td>0</td>\n",
       "    </tr>\n",
       "    <tr>\n",
       "      <th>1</th>\n",
       "      <td>76631</td>\n",
       "      <td>1068.146</td>\n",
       "      <td>417.1932</td>\n",
       "      <td>234.2289</td>\n",
       "      <td>77280</td>\n",
       "      <td>312.3614</td>\n",
       "      <td>0.8275</td>\n",
       "      <td>0.9916</td>\n",
       "      <td>0.7151</td>\n",
       "      <td>0.8440</td>\n",
       "      <td>1.7811</td>\n",
       "      <td>0.7487</td>\n",
       "      <td>Çerçevelik</td>\n",
       "      <td>0</td>\n",
       "    </tr>\n",
       "    <tr>\n",
       "      <th>2</th>\n",
       "      <td>71623</td>\n",
       "      <td>1082.987</td>\n",
       "      <td>435.8328</td>\n",
       "      <td>211.0457</td>\n",
       "      <td>72663</td>\n",
       "      <td>301.9822</td>\n",
       "      <td>0.8749</td>\n",
       "      <td>0.9857</td>\n",
       "      <td>0.7400</td>\n",
       "      <td>0.7674</td>\n",
       "      <td>2.0651</td>\n",
       "      <td>0.6929</td>\n",
       "      <td>Çerçevelik</td>\n",
       "      <td>0</td>\n",
       "    </tr>\n",
       "    <tr>\n",
       "      <th>3</th>\n",
       "      <td>66458</td>\n",
       "      <td>992.051</td>\n",
       "      <td>381.5638</td>\n",
       "      <td>222.5322</td>\n",
       "      <td>67118</td>\n",
       "      <td>290.8899</td>\n",
       "      <td>0.8123</td>\n",
       "      <td>0.9902</td>\n",
       "      <td>0.7396</td>\n",
       "      <td>0.8486</td>\n",
       "      <td>1.7146</td>\n",
       "      <td>0.7624</td>\n",
       "      <td>Çerçevelik</td>\n",
       "      <td>0</td>\n",
       "    </tr>\n",
       "    <tr>\n",
       "      <th>4</th>\n",
       "      <td>66107</td>\n",
       "      <td>998.146</td>\n",
       "      <td>383.8883</td>\n",
       "      <td>220.4545</td>\n",
       "      <td>67117</td>\n",
       "      <td>290.1207</td>\n",
       "      <td>0.8187</td>\n",
       "      <td>0.9850</td>\n",
       "      <td>0.6752</td>\n",
       "      <td>0.8338</td>\n",
       "      <td>1.7413</td>\n",
       "      <td>0.7557</td>\n",
       "      <td>Çerçevelik</td>\n",
       "      <td>0</td>\n",
       "    </tr>\n",
       "  </tbody>\n",
       "</table>\n",
       "</div>"
      ],
      "text/plain": [
       "    Area  Perimeter  Major_Axis_Length  Minor_Axis_Length  Convex_Area  \\\n",
       "0  56276    888.242           326.1485           220.2388        56831   \n",
       "1  76631   1068.146           417.1932           234.2289        77280   \n",
       "2  71623   1082.987           435.8328           211.0457        72663   \n",
       "3  66458    992.051           381.5638           222.5322        67118   \n",
       "4  66107    998.146           383.8883           220.4545        67117   \n",
       "\n",
       "   Equiv_Diameter  Eccentricity  Solidity  Extent  Roundness  Aspect_Ration  \\\n",
       "0        267.6805        0.7376    0.9902  0.7453     0.8963         1.4809   \n",
       "1        312.3614        0.8275    0.9916  0.7151     0.8440         1.7811   \n",
       "2        301.9822        0.8749    0.9857  0.7400     0.7674         2.0651   \n",
       "3        290.8899        0.8123    0.9902  0.7396     0.8486         1.7146   \n",
       "4        290.1207        0.8187    0.9850  0.6752     0.8338         1.7413   \n",
       "\n",
       "   Compactness       Class  Class_encode  \n",
       "0       0.8207  Çerçevelik             0  \n",
       "1       0.7487  Çerçevelik             0  \n",
       "2       0.6929  Çerçevelik             0  \n",
       "3       0.7624  Çerçevelik             0  \n",
       "4       0.7557  Çerçevelik             0  "
      ]
     },
     "execution_count": 12,
     "metadata": {},
     "output_type": "execute_result"
    }
   ],
   "source": [
    "def encode(x):\n",
    "    if x == \"Çerçevelik\":\n",
    "        return 0\n",
    "    else:\n",
    "        return 1\n",
    "\n",
    "df[\"Class_encode\"] = df.apply(lambda x: encode(x[\"Class\"]), axis = 1)\n",
    "df.head()"
   ]
  },
  {
   "cell_type": "code",
   "execution_count": 13,
   "id": "09ba5ecd-8539-4c49-9ecf-148e5b46c843",
   "metadata": {},
   "outputs": [],
   "source": [
    "y = df[\"Class_encode\"]\n",
    "x = df.drop([\"Class\", \"Class_encode\"], axis =1)"
   ]
  },
  {
   "cell_type": "code",
   "execution_count": 14,
   "id": "4464700e-d0ff-41f9-b776-79762a4585d8",
   "metadata": {
    "tags": []
   },
   "outputs": [
    {
     "name": "stdout",
     "output_type": "stream",
     "text": [
      "Optimization terminated successfully.\n",
      "         Current function value: 0.283393\n",
      "         Iterations 10\n"
     ]
    },
    {
     "data": {
      "text/html": [
       "<table class=\"simpletable\">\n",
       "<caption>Logit Regression Results</caption>\n",
       "<tr>\n",
       "  <th>Dep. Variable:</th>     <td>Class_encode</td>   <th>  No. Observations:  </th>  <td>  2500</td> \n",
       "</tr>\n",
       "<tr>\n",
       "  <th>Model:</th>                 <td>Logit</td>      <th>  Df Residuals:      </th>  <td>  2488</td> \n",
       "</tr>\n",
       "<tr>\n",
       "  <th>Method:</th>                 <td>MLE</td>       <th>  Df Model:          </th>  <td>    11</td> \n",
       "</tr>\n",
       "<tr>\n",
       "  <th>Date:</th>            <td>Sat, 05 Mar 2022</td> <th>  Pseudo R-squ.:     </th>  <td>0.5907</td> \n",
       "</tr>\n",
       "<tr>\n",
       "  <th>Time:</th>                <td>14:23:38</td>     <th>  Log-Likelihood:    </th> <td> -708.48</td>\n",
       "</tr>\n",
       "<tr>\n",
       "  <th>converged:</th>             <td>True</td>       <th>  LL-Null:           </th> <td> -1730.9</td>\n",
       "</tr>\n",
       "<tr>\n",
       "  <th>Covariance Type:</th>     <td>nonrobust</td>    <th>  LLR p-value:       </th>  <td> 0.000</td> \n",
       "</tr>\n",
       "</table>\n",
       "<table class=\"simpletable\">\n",
       "<tr>\n",
       "          <td></td>             <th>coef</th>     <th>std err</th>      <th>z</th>      <th>P>|z|</th>  <th>[0.025</th>    <th>0.975]</th>  \n",
       "</tr>\n",
       "<tr>\n",
       "  <th>Area</th>              <td>    0.0043</td> <td>    0.001</td> <td>    4.559</td> <td> 0.000</td> <td>    0.002</td> <td>    0.006</td>\n",
       "</tr>\n",
       "<tr>\n",
       "  <th>Perimeter</th>         <td>   -0.0537</td> <td>    0.049</td> <td>   -1.097</td> <td> 0.272</td> <td>   -0.150</td> <td>    0.042</td>\n",
       "</tr>\n",
       "<tr>\n",
       "  <th>Major_Axis_Length</th> <td>    0.3862</td> <td>    0.091</td> <td>    4.224</td> <td> 0.000</td> <td>    0.207</td> <td>    0.565</td>\n",
       "</tr>\n",
       "<tr>\n",
       "  <th>Minor_Axis_Length</th> <td>    0.6561</td> <td>    0.119</td> <td>    5.496</td> <td> 0.000</td> <td>    0.422</td> <td>    0.890</td>\n",
       "</tr>\n",
       "<tr>\n",
       "  <th>Convex_Area</th>       <td>   -0.0032</td> <td>    0.001</td> <td>   -3.349</td> <td> 0.001</td> <td>   -0.005</td> <td>   -0.001</td>\n",
       "</tr>\n",
       "<tr>\n",
       "  <th>Equiv_Diameter</th>    <td>   -1.3710</td> <td>    0.205</td> <td>   -6.693</td> <td> 0.000</td> <td>   -1.772</td> <td>   -0.969</td>\n",
       "</tr>\n",
       "<tr>\n",
       "  <th>Eccentricity</th>      <td>   48.0203</td> <td>   26.942</td> <td>    1.782</td> <td> 0.075</td> <td>   -4.786</td> <td>  100.826</td>\n",
       "</tr>\n",
       "<tr>\n",
       "  <th>Solidity</th>          <td>   47.5873</td> <td>   64.371</td> <td>    0.739</td> <td> 0.460</td> <td>  -78.577</td> <td>  173.752</td>\n",
       "</tr>\n",
       "<tr>\n",
       "  <th>Extent</th>            <td>    1.1112</td> <td>    1.361</td> <td>    0.816</td> <td> 0.414</td> <td>   -1.557</td> <td>    3.779</td>\n",
       "</tr>\n",
       "<tr>\n",
       "  <th>Roundness</th>         <td>  -48.5176</td> <td>   35.910</td> <td>   -1.351</td> <td> 0.177</td> <td> -118.900</td> <td>   21.865</td>\n",
       "</tr>\n",
       "<tr>\n",
       "  <th>Aspect_Ration</th>     <td>    3.1971</td> <td>    5.743</td> <td>    0.557</td> <td> 0.578</td> <td>   -8.059</td> <td>   14.453</td>\n",
       "</tr>\n",
       "<tr>\n",
       "  <th>Compactness</th>       <td>   41.7312</td> <td>   65.433</td> <td>    0.638</td> <td> 0.524</td> <td>  -86.515</td> <td>  169.977</td>\n",
       "</tr>\n",
       "</table>"
      ],
      "text/plain": [
       "<class 'statsmodels.iolib.summary.Summary'>\n",
       "\"\"\"\n",
       "                           Logit Regression Results                           \n",
       "==============================================================================\n",
       "Dep. Variable:           Class_encode   No. Observations:                 2500\n",
       "Model:                          Logit   Df Residuals:                     2488\n",
       "Method:                           MLE   Df Model:                           11\n",
       "Date:                Sat, 05 Mar 2022   Pseudo R-squ.:                  0.5907\n",
       "Time:                        14:23:38   Log-Likelihood:                -708.48\n",
       "converged:                       True   LL-Null:                       -1730.9\n",
       "Covariance Type:            nonrobust   LLR p-value:                     0.000\n",
       "=====================================================================================\n",
       "                        coef    std err          z      P>|z|      [0.025      0.975]\n",
       "-------------------------------------------------------------------------------------\n",
       "Area                  0.0043      0.001      4.559      0.000       0.002       0.006\n",
       "Perimeter            -0.0537      0.049     -1.097      0.272      -0.150       0.042\n",
       "Major_Axis_Length     0.3862      0.091      4.224      0.000       0.207       0.565\n",
       "Minor_Axis_Length     0.6561      0.119      5.496      0.000       0.422       0.890\n",
       "Convex_Area          -0.0032      0.001     -3.349      0.001      -0.005      -0.001\n",
       "Equiv_Diameter       -1.3710      0.205     -6.693      0.000      -1.772      -0.969\n",
       "Eccentricity         48.0203     26.942      1.782      0.075      -4.786     100.826\n",
       "Solidity             47.5873     64.371      0.739      0.460     -78.577     173.752\n",
       "Extent                1.1112      1.361      0.816      0.414      -1.557       3.779\n",
       "Roundness           -48.5176     35.910     -1.351      0.177    -118.900      21.865\n",
       "Aspect_Ration         3.1971      5.743      0.557      0.578      -8.059      14.453\n",
       "Compactness          41.7312     65.433      0.638      0.524     -86.515     169.977\n",
       "=====================================================================================\n",
       "\"\"\""
      ]
     },
     "execution_count": 14,
     "metadata": {},
     "output_type": "execute_result"
    }
   ],
   "source": [
    "loj = sm.Logit(y,x)\n",
    "lojmodel = loj.fit()\n",
    "lojmodel.summary()"
   ]
  },
  {
   "cell_type": "code",
   "execution_count": 15,
   "id": "79c61e35-4bcf-4add-9d51-2a7cebbd772c",
   "metadata": {},
   "outputs": [
    {
     "data": {
      "text/plain": [
       "LogisticRegression(solver='liblinear')"
      ]
     },
     "execution_count": 15,
     "metadata": {},
     "output_type": "execute_result"
    }
   ],
   "source": [
    "from sklearn.linear_model import LogisticRegression\n",
    "loj = LogisticRegression(solver =\"liblinear\")\n",
    "lojmodel = loj.fit(x,y)\n",
    "lojmodel"
   ]
  },
  {
   "cell_type": "code",
   "execution_count": 16,
   "id": "b2e205f4-cbd9-44e5-8f4a-70aa23e7636f",
   "metadata": {},
   "outputs": [
    {
     "data": {
      "text/plain": [
       "0.8804"
      ]
     },
     "execution_count": 16,
     "metadata": {},
     "output_type": "execute_result"
    }
   ],
   "source": [
    "#R2degeri\n",
    "lojmodel.score(x,y)"
   ]
  },
  {
   "cell_type": "code",
   "execution_count": 17,
   "id": "1e5da220-1ae3-43ed-b39c-2014aca001a0",
   "metadata": {},
   "outputs": [],
   "source": [
    "#predict value\n",
    "ypred = lojmodel.predict(x)"
   ]
  },
  {
   "cell_type": "code",
   "execution_count": 18,
   "id": "379ef676-d5bc-4e26-827f-e234749e76ff",
   "metadata": {},
   "outputs": [
    {
     "data": {
      "text/plain": [
       "array([[1191,  109],\n",
       "       [ 190, 1010]], dtype=int64)"
      ]
     },
     "execution_count": 18,
     "metadata": {},
     "output_type": "execute_result"
    }
   ],
   "source": [
    "confusion_matrix(y, ypred)"
   ]
  },
  {
   "cell_type": "code",
   "execution_count": 19,
   "id": "09d038ac-ff2d-4540-b43b-bb54b26a4525",
   "metadata": {},
   "outputs": [],
   "source": [
    "#Precision Score = TP/(TP+FP)\n",
    "precision_score = 1191/(1191+190)"
   ]
  },
  {
   "cell_type": "code",
   "execution_count": 20,
   "id": "9b195948-143e-4b26-a178-e40c87bdedba",
   "metadata": {},
   "outputs": [
    {
     "name": "stdout",
     "output_type": "stream",
     "text": [
      "Precision: 0.862\n"
     ]
    }
   ],
   "source": [
    "print('Precision: %.3f' % precision_score)"
   ]
  },
  {
   "cell_type": "code",
   "execution_count": 21,
   "id": "7c283efd-5fca-406a-839b-7f7df623e894",
   "metadata": {},
   "outputs": [],
   "source": [
    "#Recal Score = TP/(TP+FN)\n",
    "recall_score = 1191/(1191+1010)"
   ]
  },
  {
   "cell_type": "code",
   "execution_count": 24,
   "id": "0eae738f-153a-40c5-999c-2ec4f9fdd662",
   "metadata": {},
   "outputs": [
    {
     "name": "stdout",
     "output_type": "stream",
     "text": [
      "RecallScore: 0.541\n"
     ]
    }
   ],
   "source": [
    "print('RecallScore: %.3f' % recall_score)"
   ]
  },
  {
   "cell_type": "code",
   "execution_count": 25,
   "id": "43ac9bf0-900e-4bac-9548-2d589c6e7d0b",
   "metadata": {},
   "outputs": [
    {
     "name": "stdout",
     "output_type": "stream",
     "text": [
      "Accuracy_score: 0.520\n"
     ]
    }
   ],
   "source": [
    "#Accuracy Score = (TP + TN)/ (TP + FN + TN + FP)\n",
    "accuracy_score = (1191+109)/(1191+109+190+1010)\n",
    "print('Accuracy_score: %.3f' % accuracy_score)"
   ]
  },
  {
   "cell_type": "code",
   "execution_count": 27,
   "id": "d04fd0a9-31de-401d-b471-2897fc5ec5e6",
   "metadata": {},
   "outputs": [
    {
     "data": {
      "text/plain": [
       "0.6649916247906198"
      ]
     },
     "execution_count": 27,
     "metadata": {},
     "output_type": "execute_result"
    }
   ],
   "source": [
    "F1_Score = 2* precision_score*recall_score/(precision_score + recall_score)\n",
    "F1_Score\n"
   ]
  },
  {
   "cell_type": "code",
   "execution_count": 30,
   "id": "5c1d36be-fe55-4ea6-a15b-05e82ff8bae0",
   "metadata": {},
   "outputs": [],
   "source": [
    "xtrain, xtest, ytrain, ytest = train_test_split(x, y, test_size = 0.30, random_state =42)"
   ]
  },
  {
   "cell_type": "code",
   "execution_count": null,
   "id": "a5164d2b-0a34-493b-894c-4fa274e742cc",
   "metadata": {},
   "outputs": [],
   "source": []
  },
  {
   "cell_type": "code",
   "execution_count": null,
   "id": "3716c5b1-4128-439b-aae2-412f5bdf22d4",
   "metadata": {
    "tags": []
   },
   "outputs": [],
   "source": [
    "pip install scikit-plot"
   ]
  },
  {
   "cell_type": "code",
   "execution_count": 31,
   "id": "6fe29200-cc54-47da-b24b-8790ca178eeb",
   "metadata": {},
   "outputs": [],
   "source": [
    "import scikitplot as skplt\n",
    "predicted_probabilities = lojmodel.predict_proba(xtest)"
   ]
  },
  {
   "cell_type": "code",
   "execution_count": 33,
   "id": "52f0b4a0-a044-492a-aeb3-f472cd5bb28c",
   "metadata": {},
   "outputs": [
    {
     "data": {
      "text/plain": [
       "<AxesSubplot:title={'center':'Cumulative Gains Curve'}, xlabel='Percentage of sample', ylabel='Gain'>"
      ]
     },
     "execution_count": 33,
     "metadata": {},
     "output_type": "execute_result"
    },
    {
     "data": {
      "image/png": "[encoded data removed]",
      "text/plain": [
       "<Figure size 432x288 with 1 Axes>"
      ]
     },
     "metadata": {
      "needs_background": "light"
     },
     "output_type": "display_data"
    }
   ],
   "source": [
    "skplt.metrics.plot_cumulative_gain(ytest, predicted_probabilities)"
   ]
  },
  {
   "cell_type": "code",
   "execution_count": 35,
   "id": "54890646-89db-411b-900f-6d12bfd7fb00",
   "metadata": {},
   "outputs": [
    {
     "data": {
      "text/plain": [
       "<AxesSubplot:title={'center':'Lift Curve'}, xlabel='Percentage of sample', ylabel='Lift'>"
      ]
     },
     "execution_count": 35,
     "metadata": {},
     "output_type": "execute_result"
    },
    {
     "data": {
      "image/png": "[encoded data removed]",
      "text/plain": [
       "<Figure size 432x288 with 1 Axes>"
      ]
     },
     "metadata": {
      "needs_background": "light"
     },
     "output_type": "display_data"
    }
   ],
   "source": [
    "skplt.metrics.plot_lift_curve(ytest, predicted_probabilities)"
   ]
  },
  {
   "cell_type": "code",
   "execution_count": 36,
   "id": "06712e8a-42a2-40ed-9ae6-d2235ee32949",
   "metadata": {},
   "outputs": [
    {
     "data": {
      "text/plain": [
       "KNeighborsClassifier(n_neighbors=4)"
      ]
     },
     "execution_count": 36,
     "metadata": {},
     "output_type": "execute_result"
    }
   ],
   "source": [
    "from sklearn.neighbors import KNeighborsClassifier\n",
    "KNmodel = KNeighborsClassifier(n_neighbors=4)\n",
    "KNmodel.fit(xtrain, ytrain)"
   ]
  },
  {
   "cell_type": "code",
   "execution_count": 37,
   "id": "288cdc8b-6789-490b-9508-4925641544c8",
   "metadata": {},
   "outputs": [],
   "source": [
    "predicted_probabilities2 = KNmodel.predict_proba(xtest)"
   ]
  },
  {
   "cell_type": "code",
   "execution_count": 38,
   "id": "2f4d5acb-94de-45af-8efe-ef64915fecdf",
   "metadata": {},
   "outputs": [],
   "source": [
    "fpr1, tpr1, thresh1 = roc_curve(ytest, predicted_probabilities[:,1], pos_label=1)\n",
    "fpr2, tpr2, thresh2 = roc_curve(ytest, predicted_probabilities2[:,1], pos_label=1)\n"
   ]
  },
  {
   "cell_type": "code",
   "execution_count": 39,
   "id": "eaece990-7e3e-466f-9997-5956978f40c3",
   "metadata": {},
   "outputs": [],
   "source": [
    "# roc curve for tpr = fpr \n",
    "random_probs = [0 for i in range(len(ytest))]\n",
    "p_fpr, p_tpr, _ = roc_curve(ytest, random_probs, pos_label=1)"
   ]
  },
  {
   "cell_type": "code",
   "execution_count": 40,
   "id": "3a9dabf5-dc8d-4eb1-92d4-ebe41fedf143",
   "metadata": {},
   "outputs": [
    {
     "name": "stdout",
     "output_type": "stream",
     "text": [
      "0.9328561253561253 0.6904594017094017\n"
     ]
    }
   ],
   "source": [
    "from sklearn.metrics import roc_auc_score\n",
    "\n",
    "# auc scores\n",
    "auc_score1 = roc_auc_score(ytest, predicted_probabilities[:,1])\n",
    "auc_score2 = roc_auc_score(ytest, predicted_probabilities2[:,1])\n",
    "\n",
    "print(auc_score1, auc_score2)"
   ]
  },
  {
   "cell_type": "code",
   "execution_count": 41,
   "id": "783b62e5-5c8f-444b-acaa-aee4cc45ab02",
   "metadata": {},
   "outputs": [
    {
     "data": {
      "image/png": "[encoded data removed]",
      "text/plain": [
       "<Figure size 576x396 with 1 Axes>"
      ]
     },
     "metadata": {},
     "output_type": "display_data"
    }
   ],
   "source": [
    "# matplotlib\n",
    "import matplotlib.pyplot as plt\n",
    "plt.style.use('seaborn')\n",
    "\n",
    "# plot roc curves\n",
    "plt.plot(fpr1, tpr1, linestyle='--',color='orange', label='Logistic Regression')\n",
    "plt.plot(fpr2, tpr2, linestyle='--',color='green', label='KNN')\n",
    "plt.plot(p_fpr, p_tpr, linestyle='--', color='blue')\n",
    "# title\n",
    "plt.title('ROC curve')\n",
    "# x label\n",
    "plt.xlabel('False Positive Rate')\n",
    "# y label\n",
    "plt.ylabel('True Positive rate')\n",
    "plt.legend(loc='best')\n",
    "plt.savefig('ROC',dpi=300)\n",
    "plt.show();"
   ]
  },
  {
   "cell_type": "code",
   "execution_count": null,
   "id": "f36f1a03-329f-4acb-aefd-b4abdc78e989",
   "metadata": {},
   "outputs": [],
   "source": []
  }
 ],
 "metadata": {
  "kernelspec": {
   "display_name": "Python 3 (ipykernel)",
   "language": "python",
   "name": "python3"
  },
  "language_info": {
   "codemirror_mode": {
    "name": "ipython",
    "version": 3
   },
   "file_extension": ".py",
   "mimetype": "text/x-python",
   "name": "python",
   "nbconvert_exporter": "python",
   "pygments_lexer": "ipython3",
   "version": "3.9.7"
  }
 },
 "nbformat": 4,
 "nbformat_minor": 5
}
